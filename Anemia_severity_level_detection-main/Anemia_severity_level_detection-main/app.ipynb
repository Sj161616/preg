{
 "cells": [
  {
   "cell_type": "code",
   "execution_count": 1,
   "metadata": {},
   "outputs": [
    {
     "name": "stdout",
     "output_type": "stream",
     "text": [
      " * Serving Flask app '__main__'\n",
      " * Debug mode: off\n"
     ]
    },
    {
     "name": "stderr",
     "output_type": "stream",
     "text": [
      "f:\\Anaconda\\lib\\site-packages\\sklearn\\base.py:299: UserWarning: Trying to unpickle estimator DecisionTreeClassifier from version 1.0.2 when using version 1.2.1. This might lead to breaking code or invalid results. Use at your own risk. For more info please refer to:\n",
      "https://scikit-learn.org/stable/model_persistence.html#security-maintainability-limitations\n",
      "  warnings.warn(\n",
      "f:\\Anaconda\\lib\\site-packages\\sklearn\\base.py:299: UserWarning: Trying to unpickle estimator StandardScaler from version 1.0.2 when using version 1.2.1. This might lead to breaking code or invalid results. Use at your own risk. For more info please refer to:\n",
      "https://scikit-learn.org/stable/model_persistence.html#security-maintainability-limitations\n",
      "  warnings.warn(\n",
      "WARNING: This is a development server. Do not use it in a production deployment. Use a production WSGI server instead.\n",
      " * Running on http://127.0.0.1:5000\n",
      "Press CTRL+C to quit\n",
      "127.0.0.1 - - [13/May/2023 12:23:20] \"GET / HTTP/1.1\" 200 -\n",
      "127.0.0.1 - - [13/May/2023 12:23:21] \"GET /static/bg.jpg HTTP/1.1\" 304 -\n"
     ]
    }
   ],
   "source": [
    "import numpy as np\n",
    "from flask import Flask, request, jsonify, render_template\n",
    "import pickle\n",
    "from sklearn.preprocessing import StandardScaler\n",
    "\n",
    "app = Flask(__name__)\n",
    "# when its using google coolab it should be filename=r\"/content/model.pkl\" \n",
    "model = pickle.load(open(\"model.pkl\", 'rb'))\n",
    "scaler = pickle.load(open('scaler.pkl', 'rb'))\n",
    "\n",
    "\n",
    "@app.route('/')\n",
    "def home():\n",
    "    return render_template('index5.html')\n",
    "\n",
    "@app.route('/predict',methods=['POST'])\n",
    "def predict():\n",
    "\n",
    "    features = [float(x) for x in request.form.values()]\n",
    "    final_features = [np.array(features)]\n",
    "    final_features = scaler.transform(final_features)    \n",
    "    prediction = model.predict(final_features)\n",
    "    print(\"final features\",final_features)\n",
    "    print(\"prediction:\",prediction)\n",
    "    output = round(prediction[0], 2)\n",
    "    print(output)\n",
    "\n",
    "    if output == 1:\n",
    "        return render_template('index5.html', prediction_text='This pregnant women is not likely to have ANEMIA (NON-ANEMIC)')\n",
    "    elif output == 2:\n",
    "         return render_template('index5.html', prediction_text='This pregnant women is likely to have MODERATE-ANEMIA')\n",
    "        \n",
    "    elif output == 3:\n",
    "        return render_template('index5.html', prediction_text='This pregnant women is likely to have MILD-ANEMIA')\n",
    "    elif output == 4:\n",
    "         return render_template('index5.html', prediction_text='This pregnant women is likely to have SEVERE-ANEMIA')\n",
    "    \n",
    "    else:\n",
    "         return render_template('index5.html', prediction_text='Can not recogonize!')\n",
    "        \n",
    "\n",
    "@app.route('/predict_api',methods=['POST'])\n",
    "def results():\n",
    "\n",
    "    data = request.get_json(force=True)\n",
    "    prediction = model.predict([np.array(list(data.values()))])\n",
    "\n",
    "    output = prediction[0]\n",
    "    return jsonify(output)\n",
    "\n",
    "if __name__ == \"__main__\":\n",
    "    app.run(debug=False)"
   ]
  },
  {
   "cell_type": "code",
   "execution_count": null,
   "id": "44c34ca4",
   "metadata": {},
   "outputs": [],
   "source": [
    "%%writefile Procfile\n",
    "web: gunicorn app:app"
   ]
  },
  {
   "cell_type": "code",
   "execution_count": null,
   "id": "e0d3d61b",
   "metadata": {},
   "outputs": [],
   "source": []
  },
  {
   "cell_type": "code",
   "execution_count": null,
   "id": "be946e98",
   "metadata": {},
   "outputs": [],
   "source": []
  }
 ],
 "metadata": {
  "kernelspec": {
   "display_name": "Python 3 (ipykernel)",
   "language": "python",
   "name": "python3"
  },
  "language_info": {
   "codemirror_mode": {
    "name": "ipython",
    "version": 3
   },
   "file_extension": ".py",
   "mimetype": "text/x-python",
   "name": "python",
   "nbconvert_exporter": "python",
   "pygments_lexer": "ipython3",
   "version": "3.10.9"
  }
 },
 "nbformat": 4,
 "nbformat_minor": 5
}
